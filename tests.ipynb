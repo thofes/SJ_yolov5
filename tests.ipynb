{
 "cells": [
  {
   "cell_type": "code",
   "execution_count": null,
   "metadata": {},
   "outputs": [],
   "source": [
    "from utils.plots import save_one_box\n",
    "from utils.general import xywh2xyxy\n",
    "\n",
    "xyxy = xywh2xyxy()\n"
   ]
  },
  {
   "cell_type": "code",
   "execution_count": 8,
   "metadata": {},
   "outputs": [
    {
     "name": "stderr",
     "output_type": "stream",
     "text": [
      "\u001b[34m\u001b[1mdetect_Auswertung: \u001b[0mweights=['C:/Users/jonas/Desktop/HoferThomas/Repositories/SJ_yolov5/weights/weights_skijumper_only.pt'], source=C:/Users/jonas/Desktop/HoferThomas/Dataset_Yolo/images/train/1.jpg, data=data\\coco128.yaml, imgsz=[640, 640], conf_thres=0.8, iou_thres=0.45, max_det=1, device=, view_img=False, save_txt=True, save_conf=False, save_crop=True, nosave=False, classes=None, agnostic_nms=False, augment=False, visualize=False, update=False, project=C:/Users/jonas/Desktop/HoferThomas/Dataset_Yolo/, name=test, exist_ok=False, line_thickness=3, hide_labels=False, hide_conf=False, half=False, dnn=False, vid_stride=1\n",
      "YOLOv5  042971f Python-3.9.11 torch-1.13.1+cu116 CUDA:0 (Quadro RTX 4000, 8192MiB)\n",
      "\n",
      "Fusing layers... \n",
      "Model summary: 157 layers, 7012822 parameters, 0 gradients, 15.8 GFLOPs\n",
      "image 1/1 C:\\Users\\jonas\\Desktop\\HoferThomas\\Dataset_Yolo\\images\\train\\1.jpg: 384x640 1 skijumper, 12.0ms\n",
      "Speed: 0.0ms pre-process, 12.0ms inference, 5.0ms NMS per image at shape (1, 3, 640, 640)\n",
      "Results saved to \u001b[1mC:\\Users\\jonas\\Desktop\\HoferThomas\\Dataset_Yolo\\test5\u001b[0m\n",
      "1 labels saved to C:\\Users\\jonas\\Desktop\\HoferThomas\\Dataset_Yolo\\test5\\labels\n"
     ]
    }
   ],
   "source": [
    "!python detect_Auswertung.py --weights \"C:/Users/jonas/Desktop/HoferThomas/Repositories/SJ_yolov5/weights/weights_skijumper_only.pt\" --name test --save-crop --source \"C:/Users/jonas/Desktop/HoferThomas/Dataset_Yolo/images/train/1.jpg\" --project \"C:/Users/jonas/Desktop/HoferThomas/Dataset_Yolo/\" --save-txt --max-det 1 --conf-thres 0.8\n"
   ]
  }
 ],
 "metadata": {
  "kernelspec": {
   "display_name": "Python 3",
   "language": "python",
   "name": "python3"
  },
  "language_info": {
   "codemirror_mode": {
    "name": "ipython",
    "version": 3
   },
   "file_extension": ".py",
   "mimetype": "text/x-python",
   "name": "python",
   "nbconvert_exporter": "python",
   "pygments_lexer": "ipython3",
   "version": "3.9.11"
  },
  "orig_nbformat": 4
 },
 "nbformat": 4,
 "nbformat_minor": 2
}
